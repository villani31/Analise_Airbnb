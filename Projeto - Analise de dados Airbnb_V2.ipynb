{
 "cells": [
  {
   "cell_type": "markdown",
   "id": "7b64d331",
   "metadata": {},
   "source": [
    "# Analise de dados do Airbnb - Porto (Portugal)\n",
    "O [Airbnb](https://www.airbnb.com.br/) já é considerado como sendo a **maior empresa hoteleira da atividade**. Ah, o detalhe é que ela **não possui nenhum hotel!**\n",
    "\n",
    "Conectando pessoas que querem viajar (e se hospedar) com anfitriões que querem alugar seus imóveis de maneira prática, o Airbnb fornece uma plataforma inovadora para tornar essa hospedagem alternativa.\n",
    "\n",
    "No final de 2018, a Startup fundada a 10 anos atrás, já havia **hospedado mais de 300 milhões** de pessoas ao redor de todo o mundo, desafiando as redes hoteleiras tradicionais.\n",
    "\n",
    "Umas das iniciativas do Airbnb é disponibilizar dados do site, para algumas das principais cidades do mundo. Por meio do portal [Inside Airbnb](http://insideairbnb.com/get-the-data.html), é possível baixar uma grande quantidade de dados para desenvolver projetos e soluções de Data Science.\n",
    "\n",
    "<center><img alt='Analisando Airbnb' width='10%' src='https://www.area360.com.au/wp-content/uploads/2017/09/airbnb-logo.jpg'></center>\n",
    "\n",
    "**Nesse notebook, iremos analisar os dados referente a cidade de Porto em Portugal, e ver quais insights pode ser extraídos a partir de dados brutos.**"
   ]
  },
  {
   "cell_type": "markdown",
   "id": "9709582e",
   "metadata": {},
   "source": [
    "## Obtenção dos Dados\n",
    "Todos os dados foram obtidos a partir do site [Inside Airbnb](http://insideairbnb.com/get-the-data.html).\n",
    "\n",
    "Para essa analise exploratória inicial, será baixado apenas o seguinte arquivo:\n",
    "\n",
    "* listings.csv - Summary information and metrics for listings in Porto (good for visualisations).\n",
    "\n",
    "Importante: O portal está em constante evolução, e em determinado momento pode ser que o conjunto de dados utilizado nesse notebook não esteja mais disponivel, o que quebraria nosso código.\n",
    "\n",
    "Vamos ao projeto:"
   ]
  },
  {
   "cell_type": "code",
   "execution_count": 3,
   "id": "21f97d27",
   "metadata": {},
   "outputs": [
    {
     "name": "stdout",
     "output_type": "stream",
     "text": [
      "Dimenssão do Dataset: \n",
      " Variáveis:  16 \n",
      " Entradas:  10917\n"
     ]
    }
   ],
   "source": [
    "# importando pacotes necessário\n",
    "import pandas as pd\n",
    "import matplotlib.pyplot as plt\n",
    "import seaborn as sns\n",
    "\n",
    "%matplotlib inline\n",
    "\n",
    "# importando arquivo .csv\n",
    "DATA_PATH = 'listings2.csv'\n",
    "df = pd.read_csv(DATA_PATH)\n",
    "\n",
    "# Dimenssão do DataSet\n",
    "print('Dimenssão do Dataset: \\n',\n",
    "     'Variáveis: ',df.shape[1],'\\n',\n",
    "     'Entradas: ',df.shape[0])"
   ]
  },
  {
   "cell_type": "markdown",
   "id": "454bf3b6",
   "metadata": {},
   "source": [
    "## Analise dos Dados\n",
    "**Dicionário de variáveis**\n",
    "\n",
    "* `id` - Número de id gerado para identificar o imóvel.\n",
    "* `name` - Nome da propriedade anunciada.\n",
    "* `host_id` - Número do id do proprietário (anfitrião) da propriedade.\n",
    "* `host_name` - Nome do anfitrião.\n",
    "* `neighbourhood_group` - Distritos dentro da cidade do Porto.\n",
    "* `neighbourhood` - Nome do bairro.\n",
    "* `latitude` - Coordenada da latitude da propriedade.\n",
    "* `longitude` - Coordenada da longitude da propriedade.\n",
    "* `room_type` - Informa o tipo de quarto que é oferecido.\n",
    "* `price` - Preço para alugar o imóvel.\n",
    "* `minimum_nights` - Quantidade minima de noites para alugar.\n",
    "* `number_of_reviews` - Número de avaliações que a propriedade possui.\n",
    "* `last_review` - Data da ultima avaliação.\n",
    "* `reviews_per_month` - Quantidade de avaliação por mês.\n",
    "* `calculated_host_listings_count` - Quantidade de imóveis do mesmo anfitrião.\n",
    "* `availability_365` - Número de dias de disponibilidade dentro dos 365 dias."
   ]
  },
  {
   "cell_type": "markdown",
   "id": "355029cf",
   "metadata": {},
   "source": [
    "Vamos analisar a primeiras e ultimas linhas do Dataset:"
   ]
  },
  {
   "cell_type": "code",
   "execution_count": 4,
   "id": "9749b4fe",
   "metadata": {},
   "outputs": [
    {
     "data": {
      "text/html": [
       "<div>\n",
       "<style scoped>\n",
       "    .dataframe tbody tr th:only-of-type {\n",
       "        vertical-align: middle;\n",
       "    }\n",
       "\n",
       "    .dataframe tbody tr th {\n",
       "        vertical-align: top;\n",
       "    }\n",
       "\n",
       "    .dataframe thead th {\n",
       "        text-align: right;\n",
       "    }\n",
       "</style>\n",
       "<table border=\"1\" class=\"dataframe\">\n",
       "  <thead>\n",
       "    <tr style=\"text-align: right;\">\n",
       "      <th></th>\n",
       "      <th>id</th>\n",
       "      <th>name</th>\n",
       "      <th>host_id</th>\n",
       "      <th>host_name</th>\n",
       "      <th>neighbourhood_group</th>\n",
       "      <th>neighbourhood</th>\n",
       "      <th>latitude</th>\n",
       "      <th>longitude</th>\n",
       "      <th>room_type</th>\n",
       "      <th>price</th>\n",
       "      <th>minimum_nights</th>\n",
       "      <th>number_of_reviews</th>\n",
       "      <th>last_review</th>\n",
       "      <th>reviews_per_month</th>\n",
       "      <th>calculated_host_listings_count</th>\n",
       "      <th>availability_365</th>\n",
       "    </tr>\n",
       "  </thead>\n",
       "  <tbody>\n",
       "    <tr>\n",
       "      <th>0</th>\n",
       "      <td>41339</td>\n",
       "      <td>Porto city flat near the sea</td>\n",
       "      <td>180050</td>\n",
       "      <td>Paula</td>\n",
       "      <td>PORTO</td>\n",
       "      <td>Lordelo do Ouro e Massarelos</td>\n",
       "      <td>41.15010</td>\n",
       "      <td>-8.66035</td>\n",
       "      <td>Entire home/apt</td>\n",
       "      <td>95</td>\n",
       "      <td>5</td>\n",
       "      <td>17</td>\n",
       "      <td>2018-08-19</td>\n",
       "      <td>0.19</td>\n",
       "      <td>1</td>\n",
       "      <td>0</td>\n",
       "    </tr>\n",
       "    <tr>\n",
       "      <th>1</th>\n",
       "      <td>42462</td>\n",
       "      <td>Large Penthouse in Vila Nova Gaia</td>\n",
       "      <td>185492</td>\n",
       "      <td>Gabriela</td>\n",
       "      <td>VILA NOVA DE GAIA</td>\n",
       "      <td>Mafamude e Vilar do Paraíso</td>\n",
       "      <td>41.10739</td>\n",
       "      <td>-8.59430</td>\n",
       "      <td>Entire home/apt</td>\n",
       "      <td>73</td>\n",
       "      <td>90</td>\n",
       "      <td>39</td>\n",
       "      <td>2015-07-22</td>\n",
       "      <td>0.38</td>\n",
       "      <td>3</td>\n",
       "      <td>0</td>\n",
       "    </tr>\n",
       "    <tr>\n",
       "      <th>2</th>\n",
       "      <td>55111</td>\n",
       "      <td>Fontielas Houses |Floor1 in House with shared ...</td>\n",
       "      <td>259711</td>\n",
       "      <td>Isabel E João</td>\n",
       "      <td>PAREDES</td>\n",
       "      <td>Cete</td>\n",
       "      <td>41.17481</td>\n",
       "      <td>-8.35362</td>\n",
       "      <td>Entire home/apt</td>\n",
       "      <td>66</td>\n",
       "      <td>3</td>\n",
       "      <td>14</td>\n",
       "      <td>2019-05-07</td>\n",
       "      <td>0.19</td>\n",
       "      <td>3</td>\n",
       "      <td>0</td>\n",
       "    </tr>\n",
       "    <tr>\n",
       "      <th>3</th>\n",
       "      <td>73828</td>\n",
       "      <td>Fontielas Houses |Floor0 in House with shared ...</td>\n",
       "      <td>259711</td>\n",
       "      <td>Isabel E João</td>\n",
       "      <td>PAREDES</td>\n",
       "      <td>Cete</td>\n",
       "      <td>41.17449</td>\n",
       "      <td>-8.35426</td>\n",
       "      <td>Entire home/apt</td>\n",
       "      <td>66</td>\n",
       "      <td>3</td>\n",
       "      <td>8</td>\n",
       "      <td>2019-07-22</td>\n",
       "      <td>0.11</td>\n",
       "      <td>3</td>\n",
       "      <td>0</td>\n",
       "    </tr>\n",
       "    <tr>\n",
       "      <th>4</th>\n",
       "      <td>86388</td>\n",
       "      <td>A Formosa - a nest made for two</td>\n",
       "      <td>185209</td>\n",
       "      <td>João</td>\n",
       "      <td>PORTO</td>\n",
       "      <td>Cedofeita, Ildefonso, Sé, Miragaia, Nicolau, V...</td>\n",
       "      <td>41.14918</td>\n",
       "      <td>-8.60922</td>\n",
       "      <td>Private room</td>\n",
       "      <td>20</td>\n",
       "      <td>2</td>\n",
       "      <td>136</td>\n",
       "      <td>2019-04-26</td>\n",
       "      <td>1.16</td>\n",
       "      <td>6</td>\n",
       "      <td>160</td>\n",
       "    </tr>\n",
       "  </tbody>\n",
       "</table>\n",
       "</div>"
      ],
      "text/plain": [
       "      id                                               name  host_id  \\\n",
       "0  41339                       Porto city flat near the sea   180050   \n",
       "1  42462                  Large Penthouse in Vila Nova Gaia   185492   \n",
       "2  55111  Fontielas Houses |Floor1 in House with shared ...   259711   \n",
       "3  73828  Fontielas Houses |Floor0 in House with shared ...   259711   \n",
       "4  86388                    A Formosa - a nest made for two   185209   \n",
       "\n",
       "       host_name neighbourhood_group  \\\n",
       "0          Paula               PORTO   \n",
       "1       Gabriela   VILA NOVA DE GAIA   \n",
       "2  Isabel E João             PAREDES   \n",
       "3  Isabel E João             PAREDES   \n",
       "4           João               PORTO   \n",
       "\n",
       "                                       neighbourhood  latitude  longitude  \\\n",
       "0                       Lordelo do Ouro e Massarelos  41.15010   -8.66035   \n",
       "1                        Mafamude e Vilar do Paraíso  41.10739   -8.59430   \n",
       "2                                               Cete  41.17481   -8.35362   \n",
       "3                                               Cete  41.17449   -8.35426   \n",
       "4  Cedofeita, Ildefonso, Sé, Miragaia, Nicolau, V...  41.14918   -8.60922   \n",
       "\n",
       "         room_type  price  minimum_nights  number_of_reviews last_review  \\\n",
       "0  Entire home/apt     95               5                 17  2018-08-19   \n",
       "1  Entire home/apt     73              90                 39  2015-07-22   \n",
       "2  Entire home/apt     66               3                 14  2019-05-07   \n",
       "3  Entire home/apt     66               3                  8  2019-07-22   \n",
       "4     Private room     20               2                136  2019-04-26   \n",
       "\n",
       "   reviews_per_month  calculated_host_listings_count  availability_365  \n",
       "0               0.19                               1                 0  \n",
       "1               0.38                               3                 0  \n",
       "2               0.19                               3                 0  \n",
       "3               0.11                               3                 0  \n",
       "4               1.16                               6               160  "
      ]
     },
     "execution_count": 4,
     "metadata": {},
     "output_type": "execute_result"
    }
   ],
   "source": [
    "# Ler as 5 primerias linhas do Dataframe\n",
    "df.head()"
   ]
  },
  {
   "cell_type": "code",
   "execution_count": 5,
   "id": "fe969d24",
   "metadata": {},
   "outputs": [
    {
     "data": {
      "text/html": [
       "<div>\n",
       "<style scoped>\n",
       "    .dataframe tbody tr th:only-of-type {\n",
       "        vertical-align: middle;\n",
       "    }\n",
       "\n",
       "    .dataframe tbody tr th {\n",
       "        vertical-align: top;\n",
       "    }\n",
       "\n",
       "    .dataframe thead th {\n",
       "        text-align: right;\n",
       "    }\n",
       "</style>\n",
       "<table border=\"1\" class=\"dataframe\">\n",
       "  <thead>\n",
       "    <tr style=\"text-align: right;\">\n",
       "      <th></th>\n",
       "      <th>id</th>\n",
       "      <th>name</th>\n",
       "      <th>host_id</th>\n",
       "      <th>host_name</th>\n",
       "      <th>neighbourhood_group</th>\n",
       "      <th>neighbourhood</th>\n",
       "      <th>latitude</th>\n",
       "      <th>longitude</th>\n",
       "      <th>room_type</th>\n",
       "      <th>price</th>\n",
       "      <th>minimum_nights</th>\n",
       "      <th>number_of_reviews</th>\n",
       "      <th>last_review</th>\n",
       "      <th>reviews_per_month</th>\n",
       "      <th>calculated_host_listings_count</th>\n",
       "      <th>availability_365</th>\n",
       "    </tr>\n",
       "  </thead>\n",
       "  <tbody>\n",
       "    <tr>\n",
       "      <th>10912</th>\n",
       "      <td>50921796</td>\n",
       "      <td>Nomad's Porto Easy Stay 1</td>\n",
       "      <td>164595585</td>\n",
       "      <td>Nomad City Flats</td>\n",
       "      <td>PORTO</td>\n",
       "      <td>Cedofeita, Ildefonso, Sé, Miragaia, Nicolau, V...</td>\n",
       "      <td>41.155280</td>\n",
       "      <td>-8.618770</td>\n",
       "      <td>Entire home/apt</td>\n",
       "      <td>77</td>\n",
       "      <td>1</td>\n",
       "      <td>0</td>\n",
       "      <td>NaN</td>\n",
       "      <td>NaN</td>\n",
       "      <td>33</td>\n",
       "      <td>358</td>\n",
       "    </tr>\n",
       "    <tr>\n",
       "      <th>10913</th>\n",
       "      <td>50928818</td>\n",
       "      <td>NorteSoul Mouzinho - Ap03</td>\n",
       "      <td>25997344</td>\n",
       "      <td>Hildebrando</td>\n",
       "      <td>PORTO</td>\n",
       "      <td>Cedofeita, Ildefonso, Sé, Miragaia, Nicolau, V...</td>\n",
       "      <td>41.144531</td>\n",
       "      <td>-8.612586</td>\n",
       "      <td>Entire home/apt</td>\n",
       "      <td>72</td>\n",
       "      <td>2</td>\n",
       "      <td>0</td>\n",
       "      <td>NaN</td>\n",
       "      <td>NaN</td>\n",
       "      <td>18</td>\n",
       "      <td>190</td>\n",
       "    </tr>\n",
       "    <tr>\n",
       "      <th>10914</th>\n",
       "      <td>50930469</td>\n",
       "      <td>GuestReady - Eye on Porto Reborn</td>\n",
       "      <td>410606351</td>\n",
       "      <td>Joao</td>\n",
       "      <td>PORTO</td>\n",
       "      <td>Cedofeita, Ildefonso, Sé, Miragaia, Nicolau, V...</td>\n",
       "      <td>41.162140</td>\n",
       "      <td>-8.621850</td>\n",
       "      <td>Entire home/apt</td>\n",
       "      <td>30</td>\n",
       "      <td>2</td>\n",
       "      <td>0</td>\n",
       "      <td>NaN</td>\n",
       "      <td>NaN</td>\n",
       "      <td>1</td>\n",
       "      <td>347</td>\n",
       "    </tr>\n",
       "    <tr>\n",
       "      <th>10915</th>\n",
       "      <td>50934484</td>\n",
       "      <td>*NEW* DA'HOME - WONDERFUL CONCEIÇÃO APARTMENT</td>\n",
       "      <td>278829307</td>\n",
       "      <td>DAHome</td>\n",
       "      <td>PORTO</td>\n",
       "      <td>Cedofeita, Ildefonso, Sé, Miragaia, Nicolau, V...</td>\n",
       "      <td>41.148820</td>\n",
       "      <td>-8.615390</td>\n",
       "      <td>Entire home/apt</td>\n",
       "      <td>125</td>\n",
       "      <td>3</td>\n",
       "      <td>0</td>\n",
       "      <td>NaN</td>\n",
       "      <td>NaN</td>\n",
       "      <td>3</td>\n",
       "      <td>343</td>\n",
       "    </tr>\n",
       "    <tr>\n",
       "      <th>10916</th>\n",
       "      <td>50937273</td>\n",
       "      <td>Amazing House land view</td>\n",
       "      <td>407986023</td>\n",
       "      <td>Maria</td>\n",
       "      <td>VILA NOVA DE GAIA</td>\n",
       "      <td>Avintes</td>\n",
       "      <td>41.105160</td>\n",
       "      <td>-8.553780</td>\n",
       "      <td>Private room</td>\n",
       "      <td>599</td>\n",
       "      <td>7</td>\n",
       "      <td>0</td>\n",
       "      <td>NaN</td>\n",
       "      <td>NaN</td>\n",
       "      <td>3</td>\n",
       "      <td>358</td>\n",
       "    </tr>\n",
       "  </tbody>\n",
       "</table>\n",
       "</div>"
      ],
      "text/plain": [
       "             id                                           name    host_id  \\\n",
       "10912  50921796                      Nomad's Porto Easy Stay 1  164595585   \n",
       "10913  50928818                      NorteSoul Mouzinho - Ap03   25997344   \n",
       "10914  50930469               GuestReady - Eye on Porto Reborn  410606351   \n",
       "10915  50934484  *NEW* DA'HOME - WONDERFUL CONCEIÇÃO APARTMENT  278829307   \n",
       "10916  50937273                        Amazing House land view  407986023   \n",
       "\n",
       "              host_name neighbourhood_group  \\\n",
       "10912  Nomad City Flats               PORTO   \n",
       "10913       Hildebrando               PORTO   \n",
       "10914              Joao               PORTO   \n",
       "10915            DAHome               PORTO   \n",
       "10916             Maria   VILA NOVA DE GAIA   \n",
       "\n",
       "                                           neighbourhood   latitude  \\\n",
       "10912  Cedofeita, Ildefonso, Sé, Miragaia, Nicolau, V...  41.155280   \n",
       "10913  Cedofeita, Ildefonso, Sé, Miragaia, Nicolau, V...  41.144531   \n",
       "10914  Cedofeita, Ildefonso, Sé, Miragaia, Nicolau, V...  41.162140   \n",
       "10915  Cedofeita, Ildefonso, Sé, Miragaia, Nicolau, V...  41.148820   \n",
       "10916                                            Avintes  41.105160   \n",
       "\n",
       "       longitude        room_type  price  minimum_nights  number_of_reviews  \\\n",
       "10912  -8.618770  Entire home/apt     77               1                  0   \n",
       "10913  -8.612586  Entire home/apt     72               2                  0   \n",
       "10914  -8.621850  Entire home/apt     30               2                  0   \n",
       "10915  -8.615390  Entire home/apt    125               3                  0   \n",
       "10916  -8.553780     Private room    599               7                  0   \n",
       "\n",
       "      last_review  reviews_per_month  calculated_host_listings_count  \\\n",
       "10912         NaN                NaN                              33   \n",
       "10913         NaN                NaN                              18   \n",
       "10914         NaN                NaN                               1   \n",
       "10915         NaN                NaN                               3   \n",
       "10916         NaN                NaN                               3   \n",
       "\n",
       "       availability_365  \n",
       "10912               358  \n",
       "10913               190  \n",
       "10914               347  \n",
       "10915               343  \n",
       "10916               358  "
      ]
     },
     "execution_count": 5,
     "metadata": {},
     "output_type": "execute_result"
    }
   ],
   "source": [
    "# ver as ultimas linha do dataset\n",
    "df.tail()"
   ]
  },
  {
   "cell_type": "markdown",
   "id": "f7638cbf",
   "metadata": {},
   "source": [
    "## Q1. Quantos atributos (variáveis) e quantas entradas o nosso conjunto de dados possui?, Qual tipos das variáveis?.\n",
    "\n",
    "Vamos identificar a quantidade de linhas e colunas que nosso conjunto de dados possui, e ver o tipo de cada coluna.\n",
    "\n",
    "Esse dataset que baixamos contem informações resumidas e métricas para hospedagem no Porto."
   ]
  },
  {
   "cell_type": "code",
   "execution_count": 6,
   "id": "65cdbff6",
   "metadata": {},
   "outputs": [
    {
     "name": "stdout",
     "output_type": "stream",
     "text": [
      "Valume de dados do Dataframe: \n",
      " Quantidade de colunas: 16 \n",
      " Quantidade de linhas:  10917\n",
      "--------------------------------\n",
      "Tipo de dados: \n",
      "\n",
      "id                                  int64\n",
      "name                               object\n",
      "host_id                             int64\n",
      "host_name                          object\n",
      "neighbourhood_group                object\n",
      "neighbourhood                      object\n",
      "latitude                          float64\n",
      "longitude                         float64\n",
      "room_type                          object\n",
      "price                               int64\n",
      "minimum_nights                      int64\n",
      "number_of_reviews                   int64\n",
      "last_review                        object\n",
      "reviews_per_month                 float64\n",
      "calculated_host_listings_count      int64\n",
      "availability_365                    int64\n",
      "dtype: object\n"
     ]
    }
   ],
   "source": [
    "# identificar o volume de dados do Dataframe\n",
    "print('Valume de dados do Dataframe: \\n',\n",
    "     'Quantidade de colunas:',df.shape[1], '\\n',\n",
    "     'Quantidade de linhas: ',df.shape[0])\n",
    "\n",
    "# tipo de dados de cada coluna\n",
    "print('--------------------------------')\n",
    "print('Tipo de dados: \\n')\n",
    "print(df.dtypes)"
   ]
  },
  {
   "cell_type": "markdown",
   "id": "7c1cc544",
   "metadata": {},
   "source": [
    "## Q2. Qual a porcentagem de valores ausentes no dataset?\n",
    "\n",
    "A qualidade de um dataset está diretamente ralacionado a quantidade de valores ausentes. É importante entende logo no inicio se esses valores nulos são significativos comparando ao total de entradas.\n",
    "\n",
    "* As colunas `last_review` e `reviews_per_month` possuem em torno de 19% de valores nulos, ambas com 2131 linhas\n",
    "\n",
    "Para essa analise que estamos fazendo nesse projeto, não tem necessidade de mantermos essas variáveis, com isso para termos uma melhor visão dos dados, será excluido."
   ]
  },
  {
   "cell_type": "code",
   "execution_count": 7,
   "id": "eeedcb57",
   "metadata": {},
   "outputs": [
    {
     "data": {
      "text/plain": [
       "last_review                       2131\n",
       "reviews_per_month                 2131\n",
       "name                                 1\n",
       "host_name                            1\n",
       "id                                   0\n",
       "host_id                              0\n",
       "neighbourhood_group                  0\n",
       "neighbourhood                        0\n",
       "latitude                             0\n",
       "longitude                            0\n",
       "room_type                            0\n",
       "price                                0\n",
       "minimum_nights                       0\n",
       "number_of_reviews                    0\n",
       "calculated_host_listings_count       0\n",
       "availability_365                     0\n",
       "dtype: int64"
      ]
     },
     "execution_count": 7,
     "metadata": {},
     "output_type": "execute_result"
    }
   ],
   "source": [
    "df.isnull().sum().sort_values(ascending=False)"
   ]
  },
  {
   "cell_type": "code",
   "execution_count": 8,
   "id": "fab91284",
   "metadata": {},
   "outputs": [],
   "source": [
    "# dropar colunas desnecessária\n",
    "df.drop(columns=['last_review', 'reviews_per_month'], inplace=True)"
   ]
  },
  {
   "cell_type": "code",
   "execution_count": 9,
   "id": "38bed21d",
   "metadata": {},
   "outputs": [],
   "source": [
    "# Excluir linhas faltantes\n",
    "df.dropna(axis=0, inplace=True)"
   ]
  },
  {
   "cell_type": "markdown",
   "id": "15274d12",
   "metadata": {},
   "source": [
    "Ver informações de valores ausente, após a limpeza."
   ]
  },
  {
   "cell_type": "code",
   "execution_count": 10,
   "id": "3e9ba028",
   "metadata": {},
   "outputs": [
    {
     "data": {
      "text/plain": [
       "id                                0.0\n",
       "name                              0.0\n",
       "host_id                           0.0\n",
       "host_name                         0.0\n",
       "neighbourhood_group               0.0\n",
       "neighbourhood                     0.0\n",
       "latitude                          0.0\n",
       "longitude                         0.0\n",
       "room_type                         0.0\n",
       "price                             0.0\n",
       "minimum_nights                    0.0\n",
       "number_of_reviews                 0.0\n",
       "calculated_host_listings_count    0.0\n",
       "availability_365                  0.0\n",
       "dtype: float64"
      ]
     },
     "execution_count": 10,
     "metadata": {},
     "output_type": "execute_result"
    }
   ],
   "source": [
    "# ordenar de forma decrescente as variáveis por seus valores ausentes\n",
    "(df.isnull().sum() / df.shape[0] * 100).sort_values(ascending=False)"
   ]
  },
  {
   "cell_type": "markdown",
   "id": "8cd6f579",
   "metadata": {},
   "source": [
    "## Q3. Qual tipo de distribuição das variáveis?\n",
    "\n",
    "Para identificar a distribuição, irei plotar o histograma das variáveis."
   ]
  },
  {
   "cell_type": "code",
   "execution_count": 11,
   "id": "56ffc464",
   "metadata": {},
   "outputs": [
    {
     "data": {
      "image/png": "[encoded data removed]",
      "text/plain": [
       "<Figure size 1080x720 with 9 Axes>"
      ]
     },
     "metadata": {
      "needs_background": "light"
     },
     "output_type": "display_data"
    }
   ],
   "source": [
    "# plotar o histograma das variáveis numéricas\n",
    "df.hist(bins=15, figsize=(15,10))\n",
    "plt.show()"
   ]
  },
  {
   "cell_type": "markdown",
   "id": "910edd78",
   "metadata": {},
   "source": [
    "## Q4. Identificar Outliers.\n",
    "\n",
    "`Outliers são dados que se diferenciam drasticamente de todos os outros.`\n",
    "\n",
    "Para distribuição do histograma é possível verificar indicios de presença de outliers. Olhe por exemplo as variáveis `price`e `minimum_nights`.\n",
    "\n",
    "Os valores não seguem uma distribuição, e distorcem toda a representação gráfica. Para confirmar, a duas maneiras rápidas que auxiliam a detecção de outliers:\n",
    "\n",
    "* Resumo estátistico por meio do `describe()`\n",
    "* Plotar boxplots para a variável"
   ]
  },
  {
   "cell_type": "code",
   "execution_count": 12,
   "id": "80c8c452",
   "metadata": {},
   "outputs": [
    {
     "data": {
      "text/html": [
       "<div>\n",
       "<style scoped>\n",
       "    .dataframe tbody tr th:only-of-type {\n",
       "        vertical-align: middle;\n",
       "    }\n",
       "\n",
       "    .dataframe tbody tr th {\n",
       "        vertical-align: top;\n",
       "    }\n",
       "\n",
       "    .dataframe thead th {\n",
       "        text-align: right;\n",
       "    }\n",
       "</style>\n",
       "<table border=\"1\" class=\"dataframe\">\n",
       "  <thead>\n",
       "    <tr style=\"text-align: right;\">\n",
       "      <th></th>\n",
       "      <th>price</th>\n",
       "      <th>minimum_nights</th>\n",
       "      <th>calculated_host_listings_count</th>\n",
       "      <th>availability_365</th>\n",
       "    </tr>\n",
       "  </thead>\n",
       "  <tbody>\n",
       "    <tr>\n",
       "      <th>count</th>\n",
       "      <td>10915.000</td>\n",
       "      <td>10915.000</td>\n",
       "      <td>10915.000</td>\n",
       "      <td>10915.000</td>\n",
       "    </tr>\n",
       "    <tr>\n",
       "      <th>mean</th>\n",
       "      <td>93.134</td>\n",
       "      <td>3.413</td>\n",
       "      <td>20.363</td>\n",
       "      <td>223.084</td>\n",
       "    </tr>\n",
       "    <tr>\n",
       "      <th>std</th>\n",
       "      <td>329.727</td>\n",
       "      <td>19.105</td>\n",
       "      <td>59.687</td>\n",
       "      <td>128.310</td>\n",
       "    </tr>\n",
       "    <tr>\n",
       "      <th>min</th>\n",
       "      <td>8.000</td>\n",
       "      <td>1.000</td>\n",
       "      <td>1.000</td>\n",
       "      <td>0.000</td>\n",
       "    </tr>\n",
       "    <tr>\n",
       "      <th>25%</th>\n",
       "      <td>43.000</td>\n",
       "      <td>1.000</td>\n",
       "      <td>1.000</td>\n",
       "      <td>122.500</td>\n",
       "    </tr>\n",
       "    <tr>\n",
       "      <th>50%</th>\n",
       "      <td>64.000</td>\n",
       "      <td>2.000</td>\n",
       "      <td>4.000</td>\n",
       "      <td>271.000</td>\n",
       "    </tr>\n",
       "    <tr>\n",
       "      <th>75%</th>\n",
       "      <td>91.000</td>\n",
       "      <td>2.000</td>\n",
       "      <td>9.000</td>\n",
       "      <td>338.000</td>\n",
       "    </tr>\n",
       "    <tr>\n",
       "      <th>max</th>\n",
       "      <td>11799.000</td>\n",
       "      <td>1123.000</td>\n",
       "      <td>338.000</td>\n",
       "      <td>365.000</td>\n",
       "    </tr>\n",
       "  </tbody>\n",
       "</table>\n",
       "</div>"
      ],
      "text/plain": [
       "           price  minimum_nights  calculated_host_listings_count  \\\n",
       "count  10915.000       10915.000                       10915.000   \n",
       "mean      93.134           3.413                          20.363   \n",
       "std      329.727          19.105                          59.687   \n",
       "min        8.000           1.000                           1.000   \n",
       "25%       43.000           1.000                           1.000   \n",
       "50%       64.000           2.000                           4.000   \n",
       "75%       91.000           2.000                           9.000   \n",
       "max    11799.000        1123.000                         338.000   \n",
       "\n",
       "       availability_365  \n",
       "count         10915.000  \n",
       "mean            223.084  \n",
       "std             128.310  \n",
       "min               0.000  \n",
       "25%             122.500  \n",
       "50%             271.000  \n",
       "75%             338.000  \n",
       "max             365.000  "
      ]
     },
     "execution_count": 12,
     "metadata": {},
     "output_type": "execute_result"
    }
   ],
   "source": [
    "# ver um resumo estatistico das variáveis numéricas\n",
    "df[['price', 'minimum_nights','calculated_host_listings_count', 'availability_365']].describe().round(3)"
   ]
  },
  {
   "cell_type": "markdown",
   "id": "1f49d742",
   "metadata": {},
   "source": [
    "Olhando o resumo das estatisticas podemos ter alguma hipótese nas colunas price e minimum_nights"
   ]
  },
  {
   "cell_type": "code",
   "execution_count": 13,
   "id": "4cf7579f",
   "metadata": {},
   "outputs": [
    {
     "data": {
      "image/png": "[encoded data removed]",
      "text/plain": [
       "<Figure size 1080x216 with 1 Axes>"
      ]
     },
     "metadata": {
      "needs_background": "light"
     },
     "output_type": "display_data"
    },
    {
     "name": "stdout",
     "output_type": "stream",
     "text": [
      "price valores a cima de 1500: \n",
      " 13 Entradas \n",
      " 0.1191%\n"
     ]
    }
   ],
   "source": [
    "# price\n",
    "df.price.plot(kind='box', vert=False, figsize=(15,3))\n",
    "plt.show()\n",
    "\n",
    "# Ver a quantidade de valores a cima de 1500 \n",
    "print('price valores a cima de 1500: \\n',\n",
    "     '{} Entradas'.format((len(df[df.price > 1500]))), '\\n',\n",
    "     '{:.4f}%'.format((len(df[df.price > 1500]) / df.shape[0]) * 100))"
   ]
  },
  {
   "cell_type": "code",
   "execution_count": 14,
   "id": "1837a67f",
   "metadata": {},
   "outputs": [
    {
     "data": {
      "image/png": "[encoded data removed]",
      "text/plain": [
       "<Figure size 1080x216 with 1 Axes>"
      ]
     },
     "metadata": {
      "needs_background": "light"
     },
     "output_type": "display_data"
    },
    {
     "name": "stdout",
     "output_type": "stream",
     "text": [
      "minimum_nights valores a cima de 30 dias: \n",
      " 56 Entradas \n",
      " 0.5131%\n"
     ]
    }
   ],
   "source": [
    "# minimum_nights\n",
    "df.minimum_nights.plot(kind='box', vert=False, figsize=(15,3))\n",
    "plt.show()\n",
    "\n",
    "# ver a quantidade de valores a cima de 30 dias\n",
    "print('minimum_nights valores a cima de 30 dias: \\n',\n",
    "     '{} Entradas'.format((len(df[df.minimum_nights > 30]))), '\\n',\n",
    "     '{:.4f}%'.format(((len(df[df.minimum_nights > 30]) / df.shape[0]) * 100)))"
   ]
  },
  {
   "cell_type": "markdown",
   "id": "2bad6637",
   "metadata": {},
   "source": [
    "## Histograma sem outliers\n",
    "\n",
    "Vamos limpar o Dataframe dos outliers que foram identificados nas variáveis `price` e `minimum_nights`.\n",
    "\n",
    "Para tratar dos outliers desse conjunto de dados, vamos utilizar a refra do IQR Score, a variação interquartil (IQR) pode ser usada para identificar matematicamente os outliers de um conjunto de dados\n",
    "\n",
    "Em geral, para encontrar o valor base para os outliers de baixo, você pega o valor do primeiro quartil (Q1) e diminui pelo valor do IQR multiplicado por 1,5.\n",
    "\n",
    "Ou seja, outliers baixos estão abaixo de Q1 − (1,5*IQR), já para os outliers de cima, você deve somar o terceiro quartil (Q3) com o produto da mesma multiplicação anterior. Outliers de cima passam de Q3 + (1,5*IQR).\n",
    "\n",
    "Para identificar o Q1 e Q3, pelo comando `describe()`, Q1 = 25% e Q3 = 75%"
   ]
  },
  {
   "cell_type": "code",
   "execution_count": 15,
   "id": "62cbfbe2",
   "metadata": {},
   "outputs": [
    {
     "data": {
      "text/html": [
       "<div>\n",
       "<style scoped>\n",
       "    .dataframe tbody tr th:only-of-type {\n",
       "        vertical-align: middle;\n",
       "    }\n",
       "\n",
       "    .dataframe tbody tr th {\n",
       "        vertical-align: top;\n",
       "    }\n",
       "\n",
       "    .dataframe thead th {\n",
       "        text-align: right;\n",
       "    }\n",
       "</style>\n",
       "<table border=\"1\" class=\"dataframe\">\n",
       "  <thead>\n",
       "    <tr style=\"text-align: right;\">\n",
       "      <th></th>\n",
       "      <th>id</th>\n",
       "      <th>host_id</th>\n",
       "      <th>latitude</th>\n",
       "      <th>longitude</th>\n",
       "      <th>price</th>\n",
       "      <th>minimum_nights</th>\n",
       "      <th>number_of_reviews</th>\n",
       "      <th>calculated_host_listings_count</th>\n",
       "      <th>availability_365</th>\n",
       "    </tr>\n",
       "  </thead>\n",
       "  <tbody>\n",
       "    <tr>\n",
       "      <th>count</th>\n",
       "      <td>10915.0</td>\n",
       "      <td>10915.0</td>\n",
       "      <td>10915.0</td>\n",
       "      <td>10915.0</td>\n",
       "      <td>10915.0</td>\n",
       "      <td>10915.0</td>\n",
       "      <td>10915.0</td>\n",
       "      <td>10915.0</td>\n",
       "      <td>10915.0</td>\n",
       "    </tr>\n",
       "    <tr>\n",
       "      <th>mean</th>\n",
       "      <td>28150527.1</td>\n",
       "      <td>141886809.1</td>\n",
       "      <td>41.2</td>\n",
       "      <td>-8.6</td>\n",
       "      <td>93.1</td>\n",
       "      <td>3.4</td>\n",
       "      <td>40.5</td>\n",
       "      <td>20.4</td>\n",
       "      <td>223.1</td>\n",
       "    </tr>\n",
       "    <tr>\n",
       "      <th>std</th>\n",
       "      <td>13659601.8</td>\n",
       "      <td>120891130.0</td>\n",
       "      <td>0.1</td>\n",
       "      <td>0.1</td>\n",
       "      <td>329.7</td>\n",
       "      <td>19.1</td>\n",
       "      <td>69.3</td>\n",
       "      <td>59.7</td>\n",
       "      <td>128.3</td>\n",
       "    </tr>\n",
       "    <tr>\n",
       "      <th>min</th>\n",
       "      <td>41339.0</td>\n",
       "      <td>154415.0</td>\n",
       "      <td>40.8</td>\n",
       "      <td>-8.8</td>\n",
       "      <td>8.0</td>\n",
       "      <td>1.0</td>\n",
       "      <td>0.0</td>\n",
       "      <td>1.0</td>\n",
       "      <td>0.0</td>\n",
       "    </tr>\n",
       "    <tr>\n",
       "      <th>25%</th>\n",
       "      <td>18362448.5</td>\n",
       "      <td>34089916.0</td>\n",
       "      <td>41.1</td>\n",
       "      <td>-8.6</td>\n",
       "      <td>43.0</td>\n",
       "      <td>1.0</td>\n",
       "      <td>1.0</td>\n",
       "      <td>1.0</td>\n",
       "      <td>122.5</td>\n",
       "    </tr>\n",
       "    <tr>\n",
       "      <th>50%</th>\n",
       "      <td>27730818.0</td>\n",
       "      <td>115102645.0</td>\n",
       "      <td>41.1</td>\n",
       "      <td>-8.6</td>\n",
       "      <td>64.0</td>\n",
       "      <td>2.0</td>\n",
       "      <td>10.0</td>\n",
       "      <td>4.0</td>\n",
       "      <td>271.0</td>\n",
       "    </tr>\n",
       "    <tr>\n",
       "      <th>75%</th>\n",
       "      <td>39570316.0</td>\n",
       "      <td>226955333.0</td>\n",
       "      <td>41.2</td>\n",
       "      <td>-8.6</td>\n",
       "      <td>91.0</td>\n",
       "      <td>2.0</td>\n",
       "      <td>48.0</td>\n",
       "      <td>9.0</td>\n",
       "      <td>338.0</td>\n",
       "    </tr>\n",
       "    <tr>\n",
       "      <th>max</th>\n",
       "      <td>50937273.0</td>\n",
       "      <td>411505127.0</td>\n",
       "      <td>41.5</td>\n",
       "      <td>-8.2</td>\n",
       "      <td>11799.0</td>\n",
       "      <td>1123.0</td>\n",
       "      <td>687.0</td>\n",
       "      <td>338.0</td>\n",
       "      <td>365.0</td>\n",
       "    </tr>\n",
       "  </tbody>\n",
       "</table>\n",
       "</div>"
      ],
      "text/plain": [
       "               id      host_id  latitude  longitude    price  minimum_nights  \\\n",
       "count     10915.0      10915.0   10915.0    10915.0  10915.0         10915.0   \n",
       "mean   28150527.1  141886809.1      41.2       -8.6     93.1             3.4   \n",
       "std    13659601.8  120891130.0       0.1        0.1    329.7            19.1   \n",
       "min       41339.0     154415.0      40.8       -8.8      8.0             1.0   \n",
       "25%    18362448.5   34089916.0      41.1       -8.6     43.0             1.0   \n",
       "50%    27730818.0  115102645.0      41.1       -8.6     64.0             2.0   \n",
       "75%    39570316.0  226955333.0      41.2       -8.6     91.0             2.0   \n",
       "max    50937273.0  411505127.0      41.5       -8.2  11799.0          1123.0   \n",
       "\n",
       "       number_of_reviews  calculated_host_listings_count  availability_365  \n",
       "count            10915.0                         10915.0           10915.0  \n",
       "mean                40.5                            20.4             223.1  \n",
       "std                 69.3                            59.7             128.3  \n",
       "min                  0.0                             1.0               0.0  \n",
       "25%                  1.0                             1.0             122.5  \n",
       "50%                 10.0                             4.0             271.0  \n",
       "75%                 48.0                             9.0             338.0  \n",
       "max                687.0                           338.0             365.0  "
      ]
     },
     "execution_count": 15,
     "metadata": {},
     "output_type": "execute_result"
    }
   ],
   "source": [
    "# estatisticas do dataset\n",
    "df.describe().round(1)"
   ]
  },
  {
   "cell_type": "code",
   "execution_count": 16,
   "id": "afa55ec0",
   "metadata": {},
   "outputs": [
    {
     "name": "stdout",
     "output_type": "stream",
     "text": [
      "IQR da variável price: 48.0\n",
      "Limite superior:  163.0\n",
      "Limite inferior:  -29.0\n"
     ]
    }
   ],
   "source": [
    "# identificar os outliers para a variavel price\n",
    "q1_price = df.price.quantile(.25)\n",
    "q3_price = df.price.quantile(.75)\n",
    "iqr_price = q3_price - q1_price\n",
    "print('IQR da variável price:', iqr_price)\n",
    "\n",
    "# definindo limites\n",
    "sup_price = q3_price + 1.5 * iqr_price\n",
    "inf_price = q1_price - 1.5 * iqr_price\n",
    "\n",
    "print('Limite superior: ',sup_price)\n",
    "print('Limite inferior: ',inf_price)\n"
   ]
  },
  {
   "cell_type": "code",
   "execution_count": 17,
   "id": "3c87b6b2",
   "metadata": {},
   "outputs": [
    {
     "name": "stdout",
     "output_type": "stream",
     "text": [
      "IQR da variavel minimum_nights 1.0\n",
      "Limite superior:  3.5\n",
      "Limite inferior:  -0.5\n"
     ]
    }
   ],
   "source": [
    "# identificar os outliers para variavel minimum_nights\n",
    "q1_minimum_nights = df.minimum_nights.quantile(.25)\n",
    "q3_minimum_nights = df.minimum_nights.quantile(.75)\n",
    "iqr_minimum_nights = q3_minimum_nights - q1_minimum_nights\n",
    "print('IQR da variavel minimum_nights', iqr_minimum_nights )\n",
    "\n",
    "# definir limites\n",
    "sup_minimum_nights = q3_minimum_nights + 1.5 * iqr_minimum_nights\n",
    "inf_minimum_nights = q1_minimum_nights - 1.5 * iqr_minimum_nights\n",
    "\n",
    "print('Limite superior: ',sup_minimum_nights)\n",
    "print('Limite inferior: ',inf_minimum_nights)"
   ]
  },
  {
   "cell_type": "code",
   "execution_count": 18,
   "id": "8bff3a41",
   "metadata": {},
   "outputs": [
    {
     "name": "stdout",
     "output_type": "stream",
     "text": [
      "Shape antes da limpeza:  (10915, 14)\n",
      "Shape depois da limpeza:  (9311, 14)\n"
     ]
    }
   ],
   "source": [
    "# limpando o Dataset\n",
    "df_clean = df.copy()\n",
    "\n",
    "df_clean.drop(df_clean[df_clean.price > 163.0].index, axis=0, inplace=True)\n",
    "df_clean.drop(df_clean[df_clean.minimum_nights > 3.5].index, axis=0, inplace=True)\n",
    "df_clean.drop(df_clean[df_clean.minimum_nights == -0.5].index, axis=0, inplace=True)\n",
    "\n",
    "print(\"Shape antes da limpeza: \",df.shape)\n",
    "print('Shape depois da limpeza: ',df_clean.shape)"
   ]
  },
  {
   "cell_type": "code",
   "execution_count": 19,
   "id": "87910adb",
   "metadata": {},
   "outputs": [
    {
     "data": {
      "image/png": "[encoded data removed]",
      "text/plain": [
       "<Figure size 1080x216 with 1 Axes>"
      ]
     },
     "metadata": {
      "needs_background": "light"
     },
     "output_type": "display_data"
    }
   ],
   "source": [
    "# Verificando conjunto limpo\n",
    "fig, ax = plt.subplots(figsize=(15,3))\n",
    "df_clean.price.plot(kind='box', vert=False)\n",
    "ax.set_title('Dataset limpo - price')\n",
    "plt.show()"
   ]
  },
  {
   "cell_type": "code",
   "execution_count": 20,
   "id": "fb8491dc",
   "metadata": {},
   "outputs": [
    {
     "data": {
      "image/png": "[encoded data removed]",
      "text/plain": [
       "<Figure size 1080x216 with 1 Axes>"
      ]
     },
     "metadata": {
      "needs_background": "light"
     },
     "output_type": "display_data"
    }
   ],
   "source": [
    "# verificando conjunto limpo\n",
    "fig, ax = plt.subplots(figsize=(15,3))\n",
    "df_clean.minimum_nights.plot(kind='box', vert=False)\n",
    "ax.set_title('Dataset limpo - minimum_nights')\n",
    "plt.show()"
   ]
  },
  {
   "cell_type": "code",
   "execution_count": 21,
   "id": "8e147311",
   "metadata": {},
   "outputs": [
    {
     "data": {
      "image/png": "[encoded data removed]",
      "text/plain": [
       "<Figure size 576x216 with 2 Axes>"
      ]
     },
     "metadata": {
      "needs_background": "light"
     },
     "output_type": "display_data"
    }
   ],
   "source": [
    "# plotar histograma para as variáveis que foram feito as limpeza\n",
    "df_clean[['price', 'minimum_nights']].hist(bins=15, figsize=(8,3));\n",
    "#df_clean.hist(bins=15, figsize=(15,10))"
   ]
  },
  {
   "cell_type": "markdown",
   "id": "f33d311c",
   "metadata": {},
   "source": [
    "Na plotagem a cima, pode já verificar uma melhor distribuição dentro do histograma."
   ]
  },
  {
   "cell_type": "markdown",
   "id": "b742cb86",
   "metadata": {},
   "source": [
    "## Q5. Qual a média dos preços dos aluguel\n",
    "\n",
    "Vamos identificar qual a média dos valores no geral, e separado por distritos e bairro na região do Porto."
   ]
  },
  {
   "cell_type": "code",
   "execution_count": 22,
   "id": "426b3e83",
   "metadata": {},
   "outputs": [
    {
     "name": "stdout",
     "output_type": "stream",
     "text": [
      "Média dos preços dos aluguéis:  65.67436365589089\n"
     ]
    }
   ],
   "source": [
    "# média da coluna price\n",
    "print('Média dos preços dos aluguéis: ',df_clean.price.mean())"
   ]
  },
  {
   "cell_type": "code",
   "execution_count": 23,
   "id": "90755fbf",
   "metadata": {},
   "outputs": [
    {
     "name": "stdout",
     "output_type": "stream",
     "text": [
      "Média dos preços por bairro, os 10 bairro mais caro:\n"
     ]
    },
    {
     "data": {
      "text/plain": [
       "neighbourhood\n",
       "Várzea                              150.000000\n",
       "Laundos                             135.000000\n",
       "Lomba                               132.000000\n",
       "São Pedro de Castelões              125.000000\n",
       "Sandim, Olival, Lever e Crestuma    124.166667\n",
       "Carregosa                           120.000000\n",
       "Alvarelhos e Guidões                116.666667\n",
       "Milheirós de Poiares                115.000000\n",
       "Santa Eulália                       111.000000\n",
       "Vila de Cucujães                    110.000000\n",
       "Name: price, dtype: float64"
      ]
     },
     "execution_count": 23,
     "metadata": {},
     "output_type": "execute_result"
    }
   ],
   "source": [
    "print('Média dos preços por bairro, os 10 bairro mais caro:')\n",
    "df_clean.groupby(['neighbourhood']).price.mean().sort_values(ascending=False)[:10]"
   ]
  },
  {
   "cell_type": "code",
   "execution_count": 47,
   "id": "9b71681b",
   "metadata": {},
   "outputs": [
    {
     "data": {
      "image/png": "[encoded data removed]",
      "text/plain": [
       "<Figure size 720x360 with 1 Axes>"
      ]
     },
     "metadata": {
      "needs_background": "light"
     },
     "output_type": "display_data"
    }
   ],
   "source": [
    "# plot histograma dos comparando a meia de valores por bairro\n",
    "fig, ax = plt.subplots(figsize=(10,5))\n",
    "df_proc_bairro = df_clean.groupby(['neighbourhood']).price.mean().sort_values(ascending=False)[:10].plot(\n",
    "    kind='barh')\n",
    "ax.set_title('Média dos preços por bairro, os 10 bairro mais caro')\n",
    "ax.set_xlabel('Média de valores')\n",
    "ax.set_ylabel('Barros de Porto')\n",
    "plt.tight_layout()"
   ]
  },
  {
   "cell_type": "code",
   "execution_count": 24,
   "id": "e031d53a",
   "metadata": {},
   "outputs": [
    {
     "name": "stdout",
     "output_type": "stream",
     "text": [
      "Média dos preços por distrito, os 10 distrito mais caro\n"
     ]
    },
    {
     "data": {
      "text/plain": [
       "neighbourhood_group\n",
       "PAREDES            84.457143\n",
       "SANTO TIRSO        84.000000\n",
       "VALE DE CAMBRA     83.875000\n",
       "AROUCA             83.178082\n",
       "GONDOMAR           77.123288\n",
       "ESPINHO            74.320388\n",
       "TROFA              73.090909\n",
       "VILA DO CONDE      72.252525\n",
       "PÓVOA DE VARZIM    70.369427\n",
       "PORTO              65.447298\n",
       "Name: price, dtype: float64"
      ]
     },
     "execution_count": 24,
     "metadata": {},
     "output_type": "execute_result"
    }
   ],
   "source": [
    "print('Média dos preços por distrito, os 10 distrito mais caro')\n",
    "df_clean.groupby(['neighbourhood_group']).price.mean().sort_values(ascending=False)[:10]"
   ]
  },
  {
   "cell_type": "code",
   "execution_count": 65,
   "id": "9acf0bb4",
   "metadata": {},
   "outputs": [
    {
     "data": {
      "image/png": "[encoded data removed]",
      "text/plain": [
       "<Figure size 720x288 with 1 Axes>"
      ]
     },
     "metadata": {
      "needs_background": "light"
     },
     "output_type": "display_data"
    }
   ],
   "source": [
    "# plot histograma dos comparando a meia de valores por bairro\n",
    "fig, ax = plt.subplots(figsize=(10,4))\n",
    "df_preco_distrito = df_clean.groupby(['neighbourhood_group']).price.mean().sort_values(\n",
    "    ascending=False)[:10].plot(kind='barh', color='gray')\n",
    "ax.set_title('Média dos preços por distrito, os 10 distrito mais caro')\n",
    "ax.set_xlabel('Média de valores')\n",
    "ax.set_ylabel('Distritos do Porto')\n",
    "plt.tight_layout()"
   ]
  },
  {
   "cell_type": "markdown",
   "id": "0e4da6be",
   "metadata": {},
   "source": [
    "## Q6. Qual a correlação existente entre as variáveis\n",
    "\n",
    "Correlaçao significa que existe uma relação entre duas coisa, no nosso contexto, estamos buscando relação ou semelhança entre duas variáveis.\n",
    "\n",
    "Essa relação pode ser medida, e a função do coeficiente de correlação estabelece qual a relação dela. Para identificar qual a correlação existentes entre as variáveis de interesse:\n",
    "\n",
    "* Criar uma matriz de correlação.\n",
    "* Gerar um heatmap a partir dessa matriz, usando a biblioteca seaborn."
   ]
  },
  {
   "cell_type": "code",
   "execution_count": 25,
   "id": "30b9f198",
   "metadata": {},
   "outputs": [
    {
     "data": {
      "text/html": [
       "<div>\n",
       "<style scoped>\n",
       "    .dataframe tbody tr th:only-of-type {\n",
       "        vertical-align: middle;\n",
       "    }\n",
       "\n",
       "    .dataframe tbody tr th {\n",
       "        vertical-align: top;\n",
       "    }\n",
       "\n",
       "    .dataframe thead th {\n",
       "        text-align: right;\n",
       "    }\n",
       "</style>\n",
       "<table border=\"1\" class=\"dataframe\">\n",
       "  <thead>\n",
       "    <tr style=\"text-align: right;\">\n",
       "      <th></th>\n",
       "      <th>price</th>\n",
       "      <th>minimum_nights</th>\n",
       "      <th>calculated_host_listings_count</th>\n",
       "      <th>availability_365</th>\n",
       "    </tr>\n",
       "  </thead>\n",
       "  <tbody>\n",
       "    <tr>\n",
       "      <th>price</th>\n",
       "      <td>1.000000</td>\n",
       "      <td>0.019977</td>\n",
       "      <td>-0.139842</td>\n",
       "      <td>0.117604</td>\n",
       "    </tr>\n",
       "    <tr>\n",
       "      <th>minimum_nights</th>\n",
       "      <td>0.019977</td>\n",
       "      <td>1.000000</td>\n",
       "      <td>-0.044157</td>\n",
       "      <td>-0.144045</td>\n",
       "    </tr>\n",
       "    <tr>\n",
       "      <th>calculated_host_listings_count</th>\n",
       "      <td>-0.139842</td>\n",
       "      <td>-0.044157</td>\n",
       "      <td>1.000000</td>\n",
       "      <td>0.117283</td>\n",
       "    </tr>\n",
       "    <tr>\n",
       "      <th>availability_365</th>\n",
       "      <td>0.117604</td>\n",
       "      <td>-0.144045</td>\n",
       "      <td>0.117283</td>\n",
       "      <td>1.000000</td>\n",
       "    </tr>\n",
       "  </tbody>\n",
       "</table>\n",
       "</div>"
      ],
      "text/plain": [
       "                                   price  minimum_nights  \\\n",
       "price                           1.000000        0.019977   \n",
       "minimum_nights                  0.019977        1.000000   \n",
       "calculated_host_listings_count -0.139842       -0.044157   \n",
       "availability_365                0.117604       -0.144045   \n",
       "\n",
       "                                calculated_host_listings_count  \\\n",
       "price                                                -0.139842   \n",
       "minimum_nights                                       -0.044157   \n",
       "calculated_host_listings_count                        1.000000   \n",
       "availability_365                                      0.117283   \n",
       "\n",
       "                                availability_365  \n",
       "price                                   0.117604  \n",
       "minimum_nights                         -0.144045  \n",
       "calculated_host_listings_count          0.117283  \n",
       "availability_365                        1.000000  "
      ]
     },
     "execution_count": 25,
     "metadata": {},
     "output_type": "execute_result"
    }
   ],
   "source": [
    "# criar matriz de correlação\n",
    "corr = df_clean[['price', 'minimum_nights',\n",
    "                 'calculated_host_listings_count','availability_365']].corr()\n",
    "\n",
    "# mostrar a matriz\n",
    "corr"
   ]
  },
  {
   "cell_type": "code",
   "execution_count": 26,
   "id": "19a82832",
   "metadata": {},
   "outputs": [
    {
     "data": {
      "image/png": "[encoded data removed]",
      "text/plain": [
       "<Figure size 432x288 with 2 Axes>"
      ]
     },
     "metadata": {
      "needs_background": "light"
     },
     "output_type": "display_data"
    }
   ],
   "source": [
    "# criar gráfico heatmap\n",
    "sns.heatmap(corr, cmap='RdBu', fmt='.2f',square=True, linecolor='white', annot=True);"
   ]
  },
  {
   "cell_type": "markdown",
   "id": "ba9ee53c",
   "metadata": {},
   "source": [
    "## Q7. Qual tipo de imóvel mais alugado no Airbnb.\n",
    "\n",
    "A coluna da variável `room_type` indica o tipo de locação que está anunciada no Airbnb. Se você já alugou no site, sabe que existe opções de apartamentos/casas inteiras, apenas aluguel de um quarto, ou mesmo dividir quarto com outras pessoas.\n",
    "\n",
    "Vamos contar a quantidade de ocorrèncias de cada tipo de aluguel, usando o método `value_counts()`."
   ]
  },
  {
   "cell_type": "code",
   "execution_count": 27,
   "id": "a7da20eb",
   "metadata": {},
   "outputs": [
    {
     "data": {
      "text/plain": [
       "Entire home/apt    7267\n",
       "Private room       1792\n",
       "Hotel room          148\n",
       "Shared room         104\n",
       "Name: room_type, dtype: int64"
      ]
     },
     "execution_count": 27,
     "metadata": {},
     "output_type": "execute_result"
    }
   ],
   "source": [
    "# mostrar a quantidade de cada tipo de imóvel\n",
    "df_clean.room_type.value_counts()"
   ]
  },
  {
   "cell_type": "code",
   "execution_count": 28,
   "id": "db9f18db",
   "metadata": {},
   "outputs": [
    {
     "data": {
      "text/plain": [
       "Entire home/apt    78.047471\n",
       "Private room       19.246053\n",
       "Hotel room          1.589518\n",
       "Shared room         1.116958\n",
       "Name: room_type, dtype: float64"
      ]
     },
     "execution_count": 28,
     "metadata": {},
     "output_type": "execute_result"
    }
   ],
   "source": [
    "# mostrar a porcentagem de cada tipo de imóvel disponivel\n",
    "(df_clean.room_type.value_counts() / df_clean.shape[0] * 100)"
   ]
  },
  {
   "cell_type": "markdown",
   "id": "e4544656",
   "metadata": {},
   "source": [
    "## Q8. Plotar mata pela latitude e longitude\n",
    "\n",
    "Como são fornecido a longitude e latitude, é possivel plotar cada ponto."
   ]
  },
  {
   "cell_type": "code",
   "execution_count": 29,
   "id": "79c139ae",
   "metadata": {},
   "outputs": [
    {
     "data": {
      "image/png": "[encoded data removed]",
      "text/plain": [
       "<Figure size 864x576 with 2 Axes>"
      ]
     },
     "metadata": {
      "needs_background": "light"
     },
     "output_type": "display_data"
    }
   ],
   "source": [
    "# plotar os imóveis pela localização\n",
    "df_clean.plot(kind='scatter', x='longitude', y='latitude', alpha=0.4, c=df_clean['price'], s=8,\n",
    "       cmap=plt.get_cmap('jet'), figsize=(12,8));"
   ]
  },
  {
   "cell_type": "markdown",
   "id": "2d6d50e6",
   "metadata": {},
   "source": [
    "## Conclusão\n",
    "\n",
    "Foi feito apensa uma analise superficial na base de dados do Airbnb, porem já se percebeu outliers, valores ausentes em algumas variáveis.\n",
    "\n",
    "No Porto é dividido em vários distritos, e se percebe que os imóveis mais caros ficam na mesma localidade que o distrito e o bairro.\n",
    "\n",
    "Por fim, lembrar que esse dataset é uma versão resumida, ideial para apenas uma abordagem inicial. Recomendace que sejá usado em uma nova analise exploratória, o conjunto de dados completo."
   ]
  }
 ],
 "metadata": {
  "kernelspec": {
   "display_name": "Python 3",
   "language": "python",
   "name": "python3"
  },
  "language_info": {
   "codemirror_mode": {
    "name": "ipython",
    "version": 3
   },
   "file_extension": ".py",
   "mimetype": "text/x-python",
   "name": "python",
   "nbconvert_exporter": "python",
   "pygments_lexer": "ipython3",
   "version": "3.8.10"
  }
 },
 "nbformat": 4,
 "nbformat_minor": 5
}
